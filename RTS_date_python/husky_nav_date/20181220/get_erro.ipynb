{
 "cells": [
  {
   "cell_type": "code",
   "execution_count": 259,
   "metadata": {},
   "outputs": [],
   "source": [
    "import pandas as pd\n",
    "import re\n",
    "\n",
    "filename = 'movebase_time.csv'\n",
    "filename_husky = 'husky_poses.csv'\n",
    "point_file = 'waypoint_ang.csv'\n",
    "\n",
    "\n",
    "outfile = 'date_result.csv'\n",
    "\n",
    "with open(filename, 'r') as f:\n",
    "    rows = f.readlines()\n",
    "    \n",
    "df = pd.read_csv(filename)\n",
    "point = pd.read_csv(point_file)\n",
    "husky = pd.read_csv(filename_husky)\n",
    "df = df[df.status == 3].reset_index(drop = True)\n",
    "\n",
    "data = []\n",
    "for i in range(len(df.time)):\n",
    "    pose_temp = husky[(husky.timestamp > (df.time[i] - 0.1)) & (husky.timestamp < (df.time[i] + 0.1))]\n",
    "    entry = pose_temp.mean().values\n",
    "    columns_index = pose_temp.mean().index\n",
    "    data.append(entry)\n",
    "    \n",
    "df_1 = pd.DataFrame(data, columns = columns_index)\n",
    "\n",
    "temp_x = df_1.x[0]\n",
    "temp_y = df_1.y[0]\n",
    "pose = []\n",
    "pose.append([df_1.timestamp[0], df_1.x[0], df_1.y[0], df_1.z[0], df_1.yaw[0], df_1.roll[0], df_1.pitch[0]])\n",
    "for i in range(len(df_1.x) - 1):\n",
    "    if ((df_1.x[i] - temp_x)**2 + (df_1.y[i] - temp_y)**2)**0.5 < 1:\n",
    "        continue\n",
    "    else:\n",
    "        temp_x = df_1.x[i]\n",
    "        temp_y = df_1.y[i]\n",
    "        pose.append([df_1.timestamp[i], df_1.x[i], df_1.y[i], df_1.z[i], df_1.yaw[i], df_1.roll[i], df_1.pitch[i]])\n",
    "pose\n",
    "list_1 = ['timestamp', 'x','y','z','yaw','roll','pitch']\n",
    "df_1 = pd.DataFrame(pose, columns = list_1)  \n",
    "df_2 = df_1.drop(['timestamp'], axis = 1)\n",
    "\n",
    "erro = df_2 - point\n",
    "erro['timestamp'] = df_1.timestamp\n",
    "erro = erro.reindex(columns=list_1)\n",
    "test = df_1.diff(1)\n",
    "\n",
    "erro['time'] = test.timestamp\n",
    "erro['dist'] = (test.x**2 + test.y**2)**0.5\n",
    "erro['vel'] = erro['dist'] / erro['time']\n",
    "erro.to_csv(outfile)"
   ]
  },
  {
   "cell_type": "code",
   "execution_count": null,
   "metadata": {},
   "outputs": [],
   "source": []
  }
 ],
 "metadata": {
  "kernelspec": {
   "display_name": "Python 3",
   "language": "python",
   "name": "python3"
  },
  "language_info": {
   "codemirror_mode": {
    "name": "ipython",
    "version": 3
   },
   "file_extension": ".py",
   "mimetype": "text/x-python",
   "name": "python",
   "nbconvert_exporter": "python",
   "pygments_lexer": "ipython3",
   "version": "3.7.0"
  }
 },
 "nbformat": 4,
 "nbformat_minor": 2
}
