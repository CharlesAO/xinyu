{
 "cells": [
  {
   "cell_type": "code",
   "execution_count": 34,
   "metadata": {},
   "outputs": [],
   "source": [
    "import pandas as pd\n",
    "import re\n",
    "\n",
    "filename = 'movebase_time.csv'\n",
    "filename_husky = 'husky_poses.csv'\n",
    "point_file = 'waypoint.csv'\n",
    "outfile = 'date_result.csv'\n",
    "    \n",
    "df = pd.read_csv(filename)\n",
    "point = pd.read_csv(point_file)\n",
    "husky = pd.read_csv(filename_husky)\n",
    "\n",
    "df = df[df.status == 3].reset_index(drop = True)   #消除状态标志不是3的数据\n",
    "\n",
    "#数据的筛选，取时间戳前后0.1秒的数据进行求和平均\n",
    "data = []\n",
    "for i in range(len(df.time)):\n",
    "    pose_temp = husky[(husky.timestamp > (df.time[i] - 0.1)) & (husky.timestamp < (df.time[i] + 0.1))]\n",
    "    entry = pose_temp.mean().values\n",
    "    columns_index = pose_temp.mean().index\n",
    "    data.append(entry)\n",
    "    \n",
    "df_1 = pd.DataFrame(data, columns = columns_index) \n",
    "\n",
    "#对获取的数据进行筛选，去到达目标点的第一个时刻的数据\n",
    "temp_x = df_1.x[0]\n",
    "temp_y = df_1.y[0]\n",
    "pose = []\n",
    "pose.append([df_1.timestamp[0], df_1.x[0], df_1.y[0], df_1.z[0], df_1.yaw[0], df_1.roll[0], df_1.pitch[0]])\n",
    "for i in range(len(df_1.x) - 1):\n",
    "    if ((df_1.x[i] - temp_x)**2 + (df_1.y[i] - temp_y)**2)**0.5 < 1:\n",
    "        continue\n",
    "    else:\n",
    "        temp_x = df_1.x[i]\n",
    "        temp_y = df_1.y[i]\n",
    "        pose.append([df_1.timestamp[i], df_1.x[i], df_1.y[i], df_1.z[i], df_1.yaw[i], df_1.roll[i], df_1.pitch[i]])\n",
    "pose\n",
    "list_1 = ['timestamp', 'x','y','z','yaw','roll','pitch']\n",
    "df_1 = pd.DataFrame(pose, columns = list_1)  #获取数据\n",
    "df_2 = df_1.drop(['timestamp'], axis = 1)  #消除时间戳的信息，与waypoint.csv文件格式一致，用于对比\n",
    "\n",
    "times = len(df_2)//len(point)\n",
    "re = len(df_2)%len(point)\n",
    "\n",
    "point_sum = point\n",
    "for i in range(times - 1):\n",
    "    point_sum = point_sum.append(point).reset_index().drop(['index'], axis = 1)\n",
    "point_sum = point_sum.append(point[0:re]).reset_index().drop(['index'], axis = 1)\n",
    "\n",
    "erro = df_2 - point_sum\n",
    "erro['timestamp'] = df_1.timestamp\n",
    "erro = erro.reindex(columns=list_1)\n",
    "test = df_1.diff(1)\n",
    "\n",
    "erro['time'] = test.timestamp\n",
    "erro['dist'] = (test.x**2 + test.y**2)**0.5\n",
    "erro['vel'] = erro['dist'] / erro['time']\n",
    "erro.to_csv(outfile, index = False)"
   ]
  },
  {
   "cell_type": "code",
   "execution_count": null,
   "metadata": {},
   "outputs": [],
   "source": []
  }
 ],
 "metadata": {
  "kernelspec": {
   "display_name": "Python 3",
   "language": "python",
   "name": "python3"
  },
  "language_info": {
   "codemirror_mode": {
    "name": "ipython",
    "version": 3
   },
   "file_extension": ".py",
   "mimetype": "text/x-python",
   "name": "python",
   "nbconvert_exporter": "python",
   "pygments_lexer": "ipython3",
   "version": "3.7.0"
  }
 },
 "nbformat": 4,
 "nbformat_minor": 2
}
