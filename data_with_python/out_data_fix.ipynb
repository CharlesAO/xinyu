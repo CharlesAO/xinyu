{
 "cells": [
  {
   "cell_type": "code",
   "execution_count": 11,
   "metadata": {},
   "outputs": [],
   "source": [
    "import pandas as pd\n",
    "import re\n",
    "\n",
    "filename = 'pose.txt'\n",
    "outfile = 'pose.csv'\n",
    "\n",
    "with open(filename, 'r') as f:\n",
    "    rows_raw = f.readlines()\n",
    "rows = rows_raw"
   ]
  },
  {
   "cell_type": "code",
   "execution_count": 12,
   "metadata": {},
   "outputs": [],
   "source": [
    "error_start = []  ##数据出错的开始位置列表\n",
    "for i,e in enumerate(rows):\n",
    "    if e.startswith('---'):\n",
    "        error_start.append(i)\n",
    "        \n",
    "error_end = []  ####数据出错的结束位置列表\n",
    "for e in error_start:\n",
    "    try: \n",
    "        index = rows.index('  - \\n',e)\n",
    "        error_end.append(index)\n",
    "    except ValueError:\n",
    "        pass "
   ]
  },
  {
   "cell_type": "code",
   "execution_count": 13,
   "metadata": {},
   "outputs": [],
   "source": [
    "#数据清理，拼接正确的数据，剔除错误的数据\n",
    "rows_clean = []\n",
    "for start,end in zip(error_start,[0] + error_end):\n",
    "    rows_clean = rows_clean + rows[end:start]\n",
    "rows = rows_clean[:(len(rows_clean)-len(rows_clean)%17)]\n",
    "\n",
    "result = [(rows[3+i],rows[4+i],rows[8+i],rows[9+i],rows[10+i],rows[12+i],rows[13+i],rows[14+i],rows[15+i]) for i in range(0,len(rows),17)] "
   ]
  },
  {
   "cell_type": "code",
   "execution_count": 14,
   "metadata": {},
   "outputs": [],
   "source": [
    "# 提取数值数据\n",
    "def find_num(x):\n",
    "    return re.findall('[\\d.-]+',x)[0] ##[0]取出列表中的第一个数据\n",
    "data = [list(map(find_num,(secs,nsecs,x,y,z,q1,q2,q3,q4))) for secs,nsecs,x,y,z,q1,q2,q3,q4 in result]\n",
    "data = [(secs + '.' + nsecs,x,y,z,q1,q2,q3,q4) for secs,nsecs,x,y,z,q1,q2,q3,q4 in data]\n",
    "\n",
    "df = pd.DataFrame(data, columns = ['time', 'x', 'y', 'z', 'q1', 'q2', 'q3', 'q4'])\n",
    "df.time = df.time.apply(float)\n",
    "df.x = df.x.apply(float)\n",
    "df.y = df.y.apply(float)\n",
    "df.z = df.z.apply(float)\n",
    "\n",
    "df.q1 = df.q1.apply(float)\n",
    "df.q2 = df.q2.apply(float)\n",
    "df.q3 = df.q3.apply(float)\n",
    "df.q4 = df.q4.apply(float)\n",
    "\n",
    "df.to_csv(outfile, index=False)"
   ]
  },
  {
   "cell_type": "code",
   "execution_count": null,
   "metadata": {},
   "outputs": [],
   "source": []
  },
  {
   "cell_type": "code",
   "execution_count": null,
   "metadata": {},
   "outputs": [],
   "source": []
  },
  {
   "cell_type": "code",
   "execution_count": null,
   "metadata": {},
   "outputs": [],
   "source": []
  }
 ],
 "metadata": {
  "kernelspec": {
   "display_name": "Python 2",
   "language": "python",
   "name": "python2"
  },
  "language_info": {
   "codemirror_mode": {
    "name": "ipython",
    "version": 2
   },
   "file_extension": ".py",
   "mimetype": "text/x-python",
   "name": "python",
   "nbconvert_exporter": "python",
   "pygments_lexer": "ipython2",
   "version": "2.7.15"
  },
  "toc": {
   "base_numbering": 1,
   "nav_menu": {},
   "number_sections": true,
   "sideBar": true,
   "skip_h1_title": false,
   "title_cell": "Table of Contents",
   "title_sidebar": "Contents",
   "toc_cell": false,
   "toc_position": {},
   "toc_section_display": true,
   "toc_window_display": false
  }
 },
 "nbformat": 4,
 "nbformat_minor": 2
}
