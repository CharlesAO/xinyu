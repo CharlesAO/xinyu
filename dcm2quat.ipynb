{
 "cells": [
  {
   "cell_type": "code",
   "execution_count": 32,
   "metadata": {},
   "outputs": [],
   "source": [
    "# coding: utf-8\n",
    "\n",
    "import pandas as pd\n",
    "import re\n",
    "import sys\n",
    "\n",
    "import os\n",
    "import numpy as np\n",
    "import argparse\n",
    "import math\n",
    "\n",
    "from tf.transformations import euler_from_quaternion, quaternion_from_euler\n",
    "\n",
    "# user-defined\n",
    "filename = 'pose.txt'\n",
    "outfile = 'pose.csv'\n",
    "with open(filename, 'r') as f:\n",
    "    data = f.readlines()"
   ]
  },
  {
   "cell_type": "code",
   "execution_count": 33,
   "metadata": {},
   "outputs": [
    {
     "data": {
      "text/plain": [
       "['Tracker returns, pose = \\n',\n",
       " '1 0 0 0\\n',\n",
       " '0 1 0 0\\n',\n",
       " '0 0 1 0\\n',\n",
       " '0 0 0 1\\n']"
      ]
     },
     "execution_count": 33,
     "metadata": {},
     "output_type": "execute_result"
    }
   ],
   "source": [
    "data[:6]"
   ]
  },
  {
   "cell_type": "raw",
   "metadata": {},
   "source": [
    "\n",
    "first = raw_rows.index('\\n')\n",
    "second = raw_rows[first+1:].index('\\n')\n",
    "\n",
    "distance = second + 1\n",
    "strip_tail = (len(raw_rows)-1)%distance\n",
    "rows = raw_rows[2:-strip_tail]\n",
    "\n",
    "temp = rows[:distance]\n",
    "\n",
    "# end_index = None\n",
    "# for i,e in enumerate(temp):\n",
    "#     if e.startswith('Ron-output file'):\n",
    "#         end_index = i\n",
    "#         break\n",
    "# # value_num = end_index - 1\n",
    "# value_num = 4\n",
    "value_num = distance - 1\n",
    "\n",
    "\n",
    "result = [e for i,e in enumerate(rows) if (i%distance <= value_num) and (i%distance > 0)]\n",
    "split_result = [re.split(r'[,()]',row)[:10] for row in result]\n",
    "add_zero_result = [row[:5]  + row[6:] for row in split_result]\n",
    "\n",
    "title = ['time', 'name'] + list('xyzabcd')\n",
    "df = pd.DataFrame(add_zero_result, columns = title)\n",
    "\n",
    "df_out = df[df.name.isin(condition)]   \n",
    "df_out.to_csv(outfile, index=False)\n"
   ]
  },
  {
   "cell_type": "code",
   "execution_count": null,
   "metadata": {},
   "outputs": [],
   "source": []
  },
  {
   "cell_type": "code",
   "execution_count": 23,
   "metadata": {},
   "outputs": [],
   "source": [
    "def dcm2quat(matrix_3x3):\n",
    "    \"\"\"Return quaternion (Hamiltonian, [x y z w]) from rotation matrix.\n",
    "    This algorithm comes from  \"Quaternion Calculus and Fast Animation\",\n",
    "    Ken Shoemake, 1987 SIGGRAPH course notes\n",
    "    (from Eigen)\n",
    "    \"\"\"\n",
    "    q = np.empty((4, ), dtype=np.float64)\n",
    "    M = np.array(matrix_3x3, dtype=np.float64, copy=False)[:4, :4]\n",
    "    t = np.trace(M)\n",
    "    if t > 0.0:\n",
    "        t = math.sqrt(t+1.0)\n",
    "        q[3] = 0.5*t\n",
    "        t = 0.5/t\n",
    "        q[0] = (M[2, 1] - M[1, 2])*t\n",
    "        q[1] = (M[0, 2] - M[2, 0])*t\n",
    "        q[2] = (M[1, 0] - M[0, 1])*t\n",
    "    else:\n",
    "        i, j, k = 0, 1, 2\n",
    "        if M[1, 1] > M[0, 0]:\n",
    "            i, j, k = 1, 2, 0\n",
    "        if M[2, 2] > M[i, i]:\n",
    "            i, j, k = 2, 0, 1\n",
    "        t = math.sqrt(M[i, i] - M[j, j] - M[k, k] + 1.0)\n",
    "        q[i] = 0.5*t\n",
    "        t = 0.5/t\n",
    "        q[3] = (M[k, j] - M[j, k])*t\n",
    "        q[j] = (M[i, j] + M[j, i])*t\n",
    "        q[k] = (M[k, i] + M[i, k])*t\n",
    "    return q"
   ]
  },
  {
   "cell_type": "code",
   "execution_count": 24,
   "metadata": {},
   "outputs": [],
   "source": [
    "a = [[0.5,0.3,0.1], [0.6,1,0.8], [0.5,-0.1,0.8]]"
   ]
  },
  {
   "cell_type": "code",
   "execution_count": 31,
   "metadata": {},
   "outputs": [
    {
     "data": {
      "text/plain": [
       "list"
      ]
     },
     "execution_count": 31,
     "metadata": {},
     "output_type": "execute_result"
    }
   ],
   "source": [
    "type(a)"
   ]
  },
  {
   "cell_type": "code",
   "execution_count": 28,
   "metadata": {},
   "outputs": [],
   "source": [
    "q = dcm2quat(a)"
   ]
  },
  {
   "cell_type": "code",
   "execution_count": 29,
   "metadata": {},
   "outputs": [],
   "source": [
    "(roll, pitch, yaw) = euler_from_quaternion (q)"
   ]
  },
  {
   "cell_type": "code",
   "execution_count": 30,
   "metadata": {},
   "outputs": [
    {
     "name": "stdout",
     "output_type": "stream",
     "text": [
      "(-0.5531028848413504, -0.17664951132759554, 0.2315774035896811)\n"
     ]
    }
   ],
   "source": [
    "print(roll, pitch, yaw)"
   ]
  },
  {
   "cell_type": "code",
   "execution_count": null,
   "metadata": {},
   "outputs": [],
   "source": []
  }
 ],
 "metadata": {
  "kernelspec": {
   "display_name": "Python 2",
   "language": "python",
   "name": "python2"
  },
  "language_info": {
   "codemirror_mode": {
    "name": "ipython",
    "version": 2
   },
   "file_extension": ".py",
   "mimetype": "text/x-python",
   "name": "python",
   "nbconvert_exporter": "python",
   "pygments_lexer": "ipython2",
   "version": "2.7.15"
  }
 },
 "nbformat": 4,
 "nbformat_minor": 2
}
